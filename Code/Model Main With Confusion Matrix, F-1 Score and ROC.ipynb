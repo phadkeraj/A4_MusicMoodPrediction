{
 "cells": [
  {
   "cell_type": "code",
   "execution_count": 1,
   "metadata": {},
   "outputs": [],
   "source": [
    "import pandas as pd\n",
    "from tensorflow.python.keras import models\n",
    "from tensorflow.python.keras import initializers\n",
    "from tensorflow.python.keras import regularizers\n",
    "\n",
    "from tensorflow.python.keras.layers import Dense\n",
    "from tensorflow.python.keras.layers import Dropout\n",
    "from tensorflow.python.keras.layers import Embedding\n",
    "from tensorflow.python.keras.layers import SeparableConv1D\n",
    "from tensorflow.python.keras.layers import MaxPooling1D\n",
    "from tensorflow.python.keras.layers import GlobalAveragePooling1D"
   ]
  },
  {
   "cell_type": "code",
   "execution_count": 2,
   "metadata": {},
   "outputs": [],
   "source": [
    "training_data = pd.read_csv(\"../Data/train_lyrics_1000.csv\",header=0,encoding='utf-8')\n",
    "testing_data = pd.read_csv(\"../Data/valid_lyrics_200.csv\",header=0,encoding='utf-8')"
   ]
  },
  {
   "cell_type": "code",
   "execution_count": 3,
   "metadata": {},
   "outputs": [
    {
     "data": {
      "text/html": [
       "<div>\n",
       "<style scoped>\n",
       "    .dataframe tbody tr th:only-of-type {\n",
       "        vertical-align: middle;\n",
       "    }\n",
       "\n",
       "    .dataframe tbody tr th {\n",
       "        vertical-align: top;\n",
       "    }\n",
       "\n",
       "    .dataframe thead th {\n",
       "        text-align: right;\n",
       "    }\n",
       "</style>\n",
       "<table border=\"1\" class=\"dataframe\">\n",
       "  <thead>\n",
       "    <tr style=\"text-align: right;\">\n",
       "      <th></th>\n",
       "      <th>file</th>\n",
       "      <th>artist</th>\n",
       "      <th>title</th>\n",
       "      <th>lyrics</th>\n",
       "      <th>genre</th>\n",
       "      <th>mood</th>\n",
       "      <th>year</th>\n",
       "    </tr>\n",
       "  </thead>\n",
       "  <tbody>\n",
       "    <tr>\n",
       "      <th>0</th>\n",
       "      <td>TRAAAAW128F429D538.h5</td>\n",
       "      <td>Casual</td>\n",
       "      <td>I Didn't Mean To</td>\n",
       "      <td>Verse One:\\n\\nAlright I might\\nHave had a litt...</td>\n",
       "      <td>Hip Hop/Rap</td>\n",
       "      <td>sad</td>\n",
       "      <td>1994</td>\n",
       "    </tr>\n",
       "    <tr>\n",
       "      <th>1</th>\n",
       "      <td>TRAAAEF128F4273421.h5</td>\n",
       "      <td>Adam Ant</td>\n",
       "      <td>Something Girls</td>\n",
       "      <td>Adam Ant/Marco Pirroni\\nEvery girl is a someth...</td>\n",
       "      <td>Rock</td>\n",
       "      <td>happy</td>\n",
       "      <td>1982</td>\n",
       "    </tr>\n",
       "    <tr>\n",
       "      <th>2</th>\n",
       "      <td>TRAAAFD128F92F423A.h5</td>\n",
       "      <td>Gob</td>\n",
       "      <td>Face the Ashes</td>\n",
       "      <td>I've just erased it's been a while, I've got a...</td>\n",
       "      <td>Rock</td>\n",
       "      <td>sad</td>\n",
       "      <td>2007</td>\n",
       "    </tr>\n",
       "    <tr>\n",
       "      <th>3</th>\n",
       "      <td>TRAABJV128F1460C49.h5</td>\n",
       "      <td>Lionel Richie</td>\n",
       "      <td>Tonight Will Be Alright</td>\n",
       "      <td>Little darling \\nWhere you've been so long \\nI...</td>\n",
       "      <td>R&amp;B</td>\n",
       "      <td>happy</td>\n",
       "      <td>1986</td>\n",
       "    </tr>\n",
       "    <tr>\n",
       "      <th>4</th>\n",
       "      <td>TRAABLR128F423B7E3.h5</td>\n",
       "      <td>Blue Rodeo</td>\n",
       "      <td>Floating</td>\n",
       "      <td>Lead Vocal by Greg\\n\\nWell, these late night c...</td>\n",
       "      <td>Rock</td>\n",
       "      <td>sad</td>\n",
       "      <td>1987</td>\n",
       "    </tr>\n",
       "  </tbody>\n",
       "</table>\n",
       "</div>"
      ],
      "text/plain": [
       "                    file         artist                    title  \\\n",
       "0  TRAAAAW128F429D538.h5         Casual         I Didn't Mean To   \n",
       "1  TRAAAEF128F4273421.h5       Adam Ant          Something Girls   \n",
       "2  TRAAAFD128F92F423A.h5            Gob           Face the Ashes   \n",
       "3  TRAABJV128F1460C49.h5  Lionel Richie  Tonight Will Be Alright   \n",
       "4  TRAABLR128F423B7E3.h5     Blue Rodeo                 Floating   \n",
       "\n",
       "                                              lyrics        genre   mood  year  \n",
       "0  Verse One:\\n\\nAlright I might\\nHave had a litt...  Hip Hop/Rap    sad  1994  \n",
       "1  Adam Ant/Marco Pirroni\\nEvery girl is a someth...         Rock  happy  1982  \n",
       "2  I've just erased it's been a while, I've got a...         Rock    sad  2007  \n",
       "3  Little darling \\nWhere you've been so long \\nI...          R&B  happy  1986  \n",
       "4  Lead Vocal by Greg\\n\\nWell, these late night c...         Rock    sad  1987  "
      ]
     },
     "execution_count": 3,
     "metadata": {},
     "output_type": "execute_result"
    }
   ],
   "source": [
    "training_data.head()"
   ]
  },
  {
   "cell_type": "code",
   "execution_count": 4,
   "metadata": {},
   "outputs": [],
   "source": [
    "# Splitting the Dataset into training and test data\n",
    "\n",
    "X_train = training_data['lyrics']\n",
    "y_train = testing_data['lyrics']\n",
    "X_test = training_data['mood']\n",
    "y_test = testing_data['mood']"
   ]
  },
  {
   "cell_type": "code",
   "execution_count": 5,
   "metadata": {},
   "outputs": [],
   "source": [
    "# Label Encoding the Target Variable\n",
    "from sklearn import preprocessing\n",
    "\n",
    "# Create a label (category) encoder object\n",
    "le = preprocessing.LabelEncoder()\n",
    "\n",
    "# Fit the encoder to the pandas column\n",
    "le.fit(X_test)\n",
    "le.fit(y_test)\n",
    "\n",
    "# View the labels (if you want)\n",
    "list(le.classes_)\n",
    "\n",
    "# Apply the fitted encoder to the pandas column\n",
    "X_test = le.transform(X_test) \n",
    "y_test = le.transform(y_test)"
   ]
  },
  {
   "cell_type": "code",
   "execution_count": 6,
   "metadata": {},
   "outputs": [],
   "source": [
    "# Porter Stemmer\n",
    "\n",
    "import nltk\n",
    "import string\n",
    "import re\n",
    "\n",
    "porter_stemmer = nltk.stem.porter.PorterStemmer()\n",
    "\n",
    "def porter_tokenizer(text, stemmer=porter_stemmer):\n",
    "    \"\"\"\n",
    "    A Porter-Stemmer-Tokenizer hybrid to splits sentences into words (tokens) \n",
    "    and applies the porter stemming algorithm to each of the obtained token. \n",
    "    Tokens that are only consisting of punctuation characters are removed as well.\n",
    "    Only tokens that consist of more than one letter are being kept.\n",
    "    \n",
    "    Parameters\n",
    "    ----------\n",
    "        \n",
    "    text : `str`. \n",
    "      A sentence that is to split into words.\n",
    "        \n",
    "    Returns\n",
    "    ----------\n",
    "    \n",
    "    no_punct : `str`. \n",
    "      A list of tokens after stemming and removing Sentence punctuation patterns.\n",
    "    \n",
    "    \"\"\"\n",
    "    lower_txt = text.lower()\n",
    "    tokens = nltk.wordpunct_tokenize(lower_txt)\n",
    "    stems = [porter_stemmer.stem(t) for t in tokens]\n",
    "    no_punct = [s for s in stems if re.match('^[a-zA-Z]+$', s) is not None]\n",
    "    return no_punct"
   ]
  },
  {
   "cell_type": "code",
   "execution_count": 7,
   "metadata": {},
   "outputs": [
    {
     "name": "stdout",
     "output_type": "stream",
     "text": [
      "stop words ['i', 'me', 'my', 'myself', 'we'] ...\n"
     ]
    }
   ],
   "source": [
    "with open('../Data/stopwords_eng.txt', 'r') as infile:\n",
    "    stop_words = infile.read().splitlines()\n",
    "print('stop words %s ...' %stop_words[:5])"
   ]
  },
  {
   "cell_type": "markdown",
   "metadata": {},
   "source": [
    "# #Vectorizing Using TF-IDF Vectorizer"
   ]
  },
  {
   "cell_type": "code",
   "execution_count": 8,
   "metadata": {},
   "outputs": [],
   "source": [
    "# Vectorizing Using TFIDF Vectorizer\n",
    "\n",
    "NGRAM_RANGE = (1, 2)\n",
    "\n",
    "# Limit on the number of features. We use the top 20K features.\n",
    "#TOP_K = 20000\n",
    "\n",
    "# Whether text should be split into word or character n-grams.\n",
    "# One of 'word', 'char'.\n",
    "TOKEN_MODE = 'word'\n",
    "\n",
    "# Minimum document/corpus frequency below which a token will be discarded.\n",
    "#MIN_DOCUMENT_FREQUENCY = 2\n",
    "\n",
    "# Limit on the length of text sequences. Sequences longer than this\n",
    "# will be truncated.\n",
    "MAX_SEQUENCE_LENGTH = 500\n",
    "\n",
    "\n",
    "kwargs = {\n",
    "            'ngram_range': NGRAM_RANGE,  # Use 1-grams + 2-grams.\n",
    "            'dtype': 'int32',\n",
    "            'strip_accents': 'unicode',\n",
    "            'decode_error': 'replace',\n",
    "            'analyzer': TOKEN_MODE,  # Split text into word tokens.\n",
    "            'stop_words':stop_words,\n",
    "            'tokenizer':porter_tokenizer,\n",
    "            'binary':False,\n",
    "            'encoding':'utf-8',\n",
    "        }"
   ]
  },
  {
   "cell_type": "code",
   "execution_count": 9,
   "metadata": {},
   "outputs": [],
   "source": [
    "# Vectorizing Using TFIDF Vectorizer\n",
    "\n",
    "NGRAM_RANGE = (1, 2)\n",
    "\n",
    "# Limit on the number of features. We use the top 20K features.\n",
    "#TOP_K = 20000\n",
    "\n",
    "# Whether text should be split into word or character n-grams.\n",
    "# One of 'word', 'char'.\n",
    "TOKEN_MODE = 'word'\n",
    "\n",
    "# Minimum document/corpus frequency below which a token will be discarded.\n",
    "#MIN_DOCUMENT_FREQUENCY = 2\n",
    "\n",
    "# Limit on the length of text sequences. Sequences longer than this\n",
    "# will be truncated.\n",
    "MAX_SEQUENCE_LENGTH = 500\n",
    "\n",
    "\n",
    "kwargs = {\n",
    "            'ngram_range': NGRAM_RANGE,  # Use 1-grams + 2-grams.\n",
    "            'dtype': 'int32',\n",
    "            'strip_accents': 'unicode',\n",
    "            'decode_error': 'replace',\n",
    "            'analyzer': TOKEN_MODE,  # Split text into word tokens.\n",
    "            'stop_words':stop_words,\n",
    "            'tokenizer':porter_tokenizer,\n",
    "            'binary':False,\n",
    "            'encoding':'utf-8',\n",
    "        }"
   ]
  },
  {
   "cell_type": "code",
   "execution_count": 10,
   "metadata": {},
   "outputs": [],
   "source": [
    "from sklearn.feature_extraction.text import TfidfVectorizer\n",
    "vectorizer = TfidfVectorizer(**kwargs)"
   ]
  },
  {
   "cell_type": "code",
   "execution_count": 11,
   "metadata": {},
   "outputs": [
    {
     "name": "stderr",
     "output_type": "stream",
     "text": [
      "C:\\ProgramData\\Anaconda3\\lib\\site-packages\\sklearn\\feature_extraction\\text.py:1567: UserWarning: Only (<class 'numpy.float64'>, <class 'numpy.float32'>, <class 'numpy.float16'>) 'dtype' should be used. int32 'dtype' will be converted to np.float64.\n",
      "  UserWarning)\n",
      "C:\\ProgramData\\Anaconda3\\lib\\site-packages\\sklearn\\feature_extraction\\text.py:300: UserWarning: Your stop_words may be inconsistent with your preprocessing. Tokenizing the stop words generated tokens ['abov', 'ani', 'becaus', 'befor', 'doe', 'dure', 'ha', 'hi', 'onc', 'onli', 'ourselv', 'themselv', 'thi', 'veri', 'wa', 'whi', 'yourselv'] not in stop_words.\n",
      "  'stop_words.' % sorted(inconsistent))\n"
     ]
    }
   ],
   "source": [
    "# Learn vocabulary from training texts and vectorize training texts.\n",
    "x_train_tfidf = vectorizer.fit_transform(X_train)\n",
    "\n",
    "# Vectorize validation texts.\n",
    "x_val_tfidf = vectorizer.transform(y_train)"
   ]
  },
  {
   "cell_type": "code",
   "execution_count": 12,
   "metadata": {},
   "outputs": [],
   "source": [
    "#Defining Parameters for the Model\n",
    "\n",
    "learning_rate=1e-3\n",
    "epochs=1000\n",
    "batch_size=128\n",
    "layers=2\n",
    "units=64\n",
    "dropout_rate=0.2"
   ]
  },
  {
   "cell_type": "code",
   "execution_count": 13,
   "metadata": {},
   "outputs": [],
   "source": [
    "def get_num_classes(labels):\n",
    "    \"\"\"Gets the total number of classes.\n",
    "    # Arguments\n",
    "        labels: list, label values.\n",
    "            There should be at lease one sample for values in the\n",
    "            range (0, num_classes -1)\n",
    "    # Returns\n",
    "        int, total number of classes.\n",
    "    # Raises\n",
    "        ValueError: if any label value in the range(0, num_classes - 1)\n",
    "            is missing or if number of classes is <= 1.\n",
    "    \"\"\"\n",
    "    num_classes = max(labels) + 1\n",
    "    missing_classes = [i for i in range(num_classes) if i not in labels]\n",
    "    if len(missing_classes):\n",
    "        raise ValueError('Missing samples with label value(s) '\n",
    "                         '{missing_classes}. Please make sure you have '\n",
    "                         'at least one sample for every label value '\n",
    "                         'in the range(0, {max_class})'.format(\n",
    "                            missing_classes=missing_classes,\n",
    "                            max_class=num_classes - 1))\n",
    "\n",
    "    if num_classes <= 1:\n",
    "        raise ValueError('Invalid number of labels: {num_classes}.'\n",
    "                         'Please make sure there are at least two classes '\n",
    "                         'of samples'.format(num_classes=num_classes))\n",
    "    return num_classes"
   ]
  },
  {
   "cell_type": "code",
   "execution_count": 14,
   "metadata": {},
   "outputs": [
    {
     "data": {
      "text/plain": [
       "2"
      ]
     },
     "execution_count": 14,
     "metadata": {},
     "output_type": "execute_result"
    }
   ],
   "source": [
    "get_num_classes(X_test)"
   ]
  },
  {
   "cell_type": "code",
   "execution_count": 15,
   "metadata": {},
   "outputs": [],
   "source": [
    "def mlp_model(layers, units, dropout_rate, input_shape, num_classes):\n",
    "    \"\"\"Creates an instance of a multi-layer perceptron model.\n",
    "    # Arguments\n",
    "        layers: int, number of `Dense` layers in the model.\n",
    "        units: int, output dimension of the layers.\n",
    "        dropout_rate: float, percentage of input to drop at Dropout layers.\n",
    "        input_shape: tuple, shape of input to the model.\n",
    "        num_classes: int, number of output classes.\n",
    "    # Returns\n",
    "        An MLP model instance.\n",
    "    \"\"\"\n",
    "    op_units, op_activation = _get_last_layer_units_and_activation(num_classes)\n",
    "    model = models.Sequential()\n",
    "    model.add(Dropout(rate=dropout_rate, input_shape=input_shape))\n",
    "\n",
    "    for _ in range(layers-1):\n",
    "        model.add(Dense(units=units, activation='relu'))\n",
    "        model.add(Dropout(rate=dropout_rate))\n",
    "\n",
    "    model.add(Dense(units=op_units, activation=op_activation))\n",
    "    return model"
   ]
  },
  {
   "cell_type": "code",
   "execution_count": 16,
   "metadata": {},
   "outputs": [],
   "source": [
    "def _get_last_layer_units_and_activation(num_classes):\n",
    "    \"\"\"Gets the # units and activation function for the last network layer.\n",
    "    # Arguments\n",
    "        num_classes: int, number of classes.\n",
    "    # Returns\n",
    "        units, activation values.\n",
    "    \"\"\"\n",
    "    if num_classes == 2:\n",
    "        activation = 'sigmoid'\n",
    "        units = 1\n",
    "    else:\n",
    "        activation = 'softmax'\n",
    "        units = num_classes\n",
    "    return units, activation"
   ]
  },
  {
   "cell_type": "code",
   "execution_count": 17,
   "metadata": {},
   "outputs": [
    {
     "data": {
      "text/plain": [
       "(1, 'sigmoid')"
      ]
     },
     "execution_count": 17,
     "metadata": {},
     "output_type": "execute_result"
    }
   ],
   "source": [
    "_get_last_layer_units_and_activation(2)"
   ]
  },
  {
   "cell_type": "code",
   "execution_count": 18,
   "metadata": {},
   "outputs": [],
   "source": [
    "op_units, op_activation = _get_last_layer_units_and_activation(2)"
   ]
  },
  {
   "cell_type": "code",
   "execution_count": 19,
   "metadata": {},
   "outputs": [
    {
     "name": "stdout",
     "output_type": "stream",
     "text": [
      "WARNING:tensorflow:From C:\\ProgramData\\Anaconda3\\lib\\site-packages\\tensorflow\\python\\keras\\layers\\core.py:143: calling dropout (from tensorflow.python.ops.nn_ops) with keep_prob is deprecated and will be removed in a future version.\n",
      "Instructions for updating:\n",
      "Please use `rate` instead of `keep_prob`. Rate should be set to `rate = 1 - keep_prob`.\n",
      "WARNING:tensorflow:From C:\\ProgramData\\Anaconda3\\lib\\site-packages\\tensorflow\\python\\ops\\control_flow_ops.py:423: colocate_with (from tensorflow.python.framework.ops) is deprecated and will be removed in a future version.\n",
      "Instructions for updating:\n",
      "Colocations handled automatically by placer.\n"
     ]
    }
   ],
   "source": [
    "# Create model instance.\n",
    "model = mlp_model(layers=layers,\n",
    "                  units=units,\n",
    "                  dropout_rate=dropout_rate,\n",
    "                  input_shape=x_train_tfidf.shape[1:],\n",
    "                  num_classes=2)"
   ]
  },
  {
   "cell_type": "code",
   "execution_count": 20,
   "metadata": {},
   "outputs": [],
   "source": [
    "# Compile model with learning parameters.\n",
    "\n",
    "import tensorflow as tf\n",
    "\n",
    "loss = 'binary_crossentropy'\n",
    "optimizer = tf.keras.optimizers.Adam(lr=learning_rate)\n",
    "model.compile(optimizer=optimizer, loss=loss, metrics=['acc'])"
   ]
  },
  {
   "cell_type": "code",
   "execution_count": 21,
   "metadata": {},
   "outputs": [],
   "source": [
    "#Create callback for early stopping on validation loss. If the loss does not decrease in two consecutive tries, stop training.\n",
    "callbacks = [tf.keras.callbacks.EarlyStopping(\n",
    "            monitor='val_loss', patience=2)]"
   ]
  },
  {
   "cell_type": "code",
   "execution_count": 22,
   "metadata": {},
   "outputs": [
    {
     "name": "stdout",
     "output_type": "stream",
     "text": [
      "Train on 1000 samples, validate on 200 samples\n",
      "WARNING:tensorflow:From C:\\ProgramData\\Anaconda3\\lib\\site-packages\\tensorflow\\python\\ops\\math_ops.py:3066: to_int32 (from tensorflow.python.ops.math_ops) is deprecated and will be removed in a future version.\n",
      "Instructions for updating:\n",
      "Use tf.cast instead.\n",
      "Epoch 1/1000\n",
      " - 3s - loss: 0.6909 - acc: 0.5560 - val_loss: 0.6905 - val_acc: 0.4850\n",
      "Epoch 2/1000\n",
      " - 3s - loss: 0.6583 - acc: 0.6560 - val_loss: 0.6867 - val_acc: 0.4900\n",
      "Epoch 3/1000\n",
      " - 3s - loss: 0.6113 - acc: 0.8620 - val_loss: 0.6779 - val_acc: 0.5150\n",
      "Epoch 4/1000\n",
      " - 3s - loss: 0.5516 - acc: 0.9820 - val_loss: 0.6672 - val_acc: 0.5500\n",
      "Epoch 5/1000\n",
      " - 3s - loss: 0.4842 - acc: 0.9960 - val_loss: 0.6552 - val_acc: 0.5700\n",
      "Epoch 6/1000\n",
      " - 3s - loss: 0.4154 - acc: 0.9970 - val_loss: 0.6451 - val_acc: 0.6050\n",
      "Epoch 7/1000\n",
      " - 3s - loss: 0.3509 - acc: 0.9970 - val_loss: 0.6345 - val_acc: 0.6250\n",
      "Epoch 8/1000\n",
      " - 3s - loss: 0.2938 - acc: 0.9970 - val_loss: 0.6236 - val_acc: 0.6600\n",
      "Epoch 9/1000\n",
      " - 3s - loss: 0.2489 - acc: 0.9960 - val_loss: 0.6153 - val_acc: 0.6650\n",
      "Epoch 10/1000\n",
      " - 3s - loss: 0.2081 - acc: 0.9960 - val_loss: 0.6068 - val_acc: 0.6850\n",
      "Epoch 11/1000\n",
      " - 3s - loss: 0.1746 - acc: 0.9970 - val_loss: 0.6005 - val_acc: 0.6900\n",
      "Epoch 12/1000\n",
      " - 3s - loss: 0.1449 - acc: 0.9980 - val_loss: 0.5956 - val_acc: 0.6950\n",
      "Epoch 13/1000\n",
      " - 3s - loss: 0.1231 - acc: 0.9990 - val_loss: 0.5930 - val_acc: 0.6900\n",
      "Epoch 14/1000\n",
      " - 3s - loss: 0.1065 - acc: 0.9990 - val_loss: 0.5895 - val_acc: 0.7000\n",
      "Epoch 15/1000\n",
      " - 3s - loss: 0.0915 - acc: 0.9990 - val_loss: 0.5854 - val_acc: 0.6950\n",
      "Epoch 16/1000\n",
      " - 3s - loss: 0.0796 - acc: 0.9960 - val_loss: 0.5832 - val_acc: 0.6950\n",
      "Epoch 17/1000\n",
      " - 3s - loss: 0.0692 - acc: 0.9970 - val_loss: 0.5798 - val_acc: 0.7000\n",
      "Epoch 18/1000\n",
      " - 3s - loss: 0.0637 - acc: 0.9970 - val_loss: 0.5791 - val_acc: 0.7000\n",
      "Epoch 19/1000\n",
      " - 3s - loss: 0.0555 - acc: 0.9970 - val_loss: 0.5783 - val_acc: 0.7000\n",
      "Epoch 20/1000\n",
      " - 3s - loss: 0.0505 - acc: 0.9980 - val_loss: 0.5775 - val_acc: 0.7000\n",
      "Epoch 21/1000\n",
      " - 3s - loss: 0.0439 - acc: 0.9990 - val_loss: 0.5768 - val_acc: 0.6950\n",
      "Epoch 22/1000\n",
      " - 3s - loss: 0.0414 - acc: 0.9970 - val_loss: 0.5753 - val_acc: 0.7000\n",
      "Epoch 23/1000\n",
      " - 3s - loss: 0.0391 - acc: 0.9970 - val_loss: 0.5760 - val_acc: 0.7000\n",
      "Epoch 24/1000\n",
      " - 3s - loss: 0.0357 - acc: 0.9980 - val_loss: 0.5760 - val_acc: 0.7050\n"
     ]
    }
   ],
   "source": [
    "# Train and validate model.\n",
    "history = model.fit(\n",
    "            x_train_tfidf,\n",
    "            X_test,\n",
    "            epochs=epochs,\n",
    "            callbacks=callbacks,\n",
    "            validation_data=(x_val_tfidf, y_test),\n",
    "            verbose=2,  # Logs once per epoch.\n",
    "            batch_size=batch_size)"
   ]
  },
  {
   "cell_type": "code",
   "execution_count": 23,
   "metadata": {},
   "outputs": [
    {
     "name": "stdout",
     "output_type": "stream",
     "text": [
      "Validation accuracy: 0.7049999833106995, loss: 0.5759593677520752\n"
     ]
    }
   ],
   "source": [
    "# Print results.\n",
    "history = history.history\n",
    "print('Validation accuracy: {acc}, loss: {loss}'.format(\n",
    "        acc=history['val_acc'][-1], loss=history['val_loss'][-1]))"
   ]
  },
  {
   "cell_type": "markdown",
   "metadata": {},
   "source": [
    "# test"
   ]
  },
  {
   "cell_type": "code",
   "execution_count": 24,
   "metadata": {},
   "outputs": [],
   "source": [
    "x = 'Without you, I feel broke Like Im half of a whole Without you, Ive got no hand to hold Without you, I feel torn Like a sail in a storm Without you, Im just a sad song Im just a sad song'"
   ]
  },
  {
   "cell_type": "code",
   "execution_count": 25,
   "metadata": {},
   "outputs": [],
   "source": [
    "x_input = vectorizer.transform([x])"
   ]
  },
  {
   "cell_type": "code",
   "execution_count": 26,
   "metadata": {},
   "outputs": [],
   "source": [
    "#x_input = selector.transform(x_input).astype('float32')\n",
    "\n",
    "\n",
    "predictions = model.predict(x_input)"
   ]
  },
  {
   "cell_type": "code",
   "execution_count": 27,
   "metadata": {},
   "outputs": [],
   "source": [
    "import numpy as np\n",
    "rounded = [np.round(x) for x in predictions]"
   ]
  },
  {
   "cell_type": "code",
   "execution_count": 28,
   "metadata": {},
   "outputs": [
    {
     "name": "stdout",
     "output_type": "stream",
     "text": [
      "happy\n"
     ]
    }
   ],
   "source": [
    "if rounded[0] == 1:\n",
    "    print('happy')\n",
    "else:\n",
    "    print('sad')"
   ]
  },
  {
   "cell_type": "code",
   "execution_count": 37,
   "metadata": {},
   "outputs": [],
   "source": [
    "# Plotting the confusion Matrix Using Logistic Regression on Word Level TF-IDF\n",
    "\n",
    "import matplotlib as mpl\n",
    "import numpy as np\n",
    "\n",
    "def plot_cm(X, y, clf, title):\n",
    "\n",
    "    predictions = clf.predict(X)\n",
    "    rounded = [np.round(x) for x in predictions]\n",
    "    cm = metrics.confusion_matrix(y, rounded)\n",
    "\n",
    "    np.set_printoptions(suppress=True)\n",
    "    mpl.rc(\"figure\", figsize=(4, 2))\n",
    "\n",
    "    hm = sns.heatmap(cm, \n",
    "            cbar=False,\n",
    "            annot=True, \n",
    "            square=True,\n",
    "            fmt='d',\n",
    "            yticklabels=['happy','sad'],\n",
    "            xticklabels=['happy','sad'],\n",
    "            cmap='Blues'\n",
    "            )\n",
    "    plt.title(title)\n",
    "    plt.ylabel('actual class')\n",
    "    plt.xlabel('predicted class')\n",
    "    plt.tight_layout()\n",
    "    plt.show()"
   ]
  },
  {
   "cell_type": "markdown",
   "metadata": {},
   "source": [
    "# plotting confusion matrix"
   ]
  },
  {
   "cell_type": "code",
   "execution_count": 39,
   "metadata": {},
   "outputs": [
    {
     "data": {
      "image/png": "[encoded data removed]",
      "text/plain": [
       "<Figure size 288x144 with 1 Axes>"
      ]
     },
     "metadata": {
      "needs_background": "light"
     },
     "output_type": "display_data"
    }
   ],
   "source": [
    "import seaborn as sns\n",
    "import matplotlib.pyplot as plt\n",
    "from sklearn import metrics \n",
    "\n",
    "plot_cm(x_val_tfidf, y_test, model, 'Test Word Level')"
   ]
  },
  {
   "cell_type": "code",
   "execution_count": 40,
   "metadata": {},
   "outputs": [
    {
     "data": {
      "image/png": "[encoded data removed]",
      "text/plain": [
       "<Figure size 288x144 with 1 Axes>"
      ]
     },
     "metadata": {
      "needs_background": "light"
     },
     "output_type": "display_data"
    }
   ],
   "source": [
    "plot_cm(x_train_tfidf, X_test, model, 'Test Word Level')"
   ]
  },
  {
   "cell_type": "markdown",
   "metadata": {},
   "source": [
    "# Calculating F-1 Score"
   ]
  },
  {
   "cell_type": "markdown",
   "metadata": {},
   "source": [
    "### Training Level"
   ]
  },
  {
   "cell_type": "code",
   "execution_count": 41,
   "metadata": {},
   "outputs": [],
   "source": [
    "#precision = (TP)/(TP+FP) \n",
    "#recall = (TP)/(P)\n",
    "#accuracy = (TP+TN)/(P+N)\n",
    "#f-measure = 2 * (precision x recall)/(precision + recall)"
   ]
  },
  {
   "cell_type": "code",
   "execution_count": 42,
   "metadata": {},
   "outputs": [],
   "source": [
    "precision_train = 445/(445+1)\n",
    "recall_train = 445/445+1\n",
    "accuracy_train = (445+553)/(1000)\n",
    "f_score_train = 2 * ((precision_train * recall_train)/(precision_train+recall_train))"
   ]
  },
  {
   "cell_type": "code",
   "execution_count": 43,
   "metadata": {},
   "outputs": [
    {
     "name": "stdout",
     "output_type": "stream",
     "text": [
      "Precision of the Training Set is:  99.78 %\n",
      "Recall of the Training Set is:  200.0 %\n",
      "Accuracy of the Training Set is:  99.8 %\n",
      "F1 Score of the Training Set is:  133.13 %\n"
     ]
    }
   ],
   "source": [
    "print(\"Precision of the Training Set is: \",round(precision_train*100,2),\"%\")\n",
    "print(\"Recall of the Training Set is: \",round(recall_train*100,2),\"%\")\n",
    "print(\"Accuracy of the Training Set is: \",round(accuracy_train*100,2),\"%\")\n",
    "print(\"F1 Score of the Training Set is: \",round(f_score_train*100,2),\"%\")"
   ]
  },
  {
   "cell_type": "markdown",
   "metadata": {},
   "source": [
    "### Testing Level"
   ]
  },
  {
   "cell_type": "code",
   "execution_count": 44,
   "metadata": {},
   "outputs": [
    {
     "name": "stdout",
     "output_type": "stream",
     "text": [
      "Precision of the Testing Set is:  59.05 %\n",
      "Recall of the Testing Set is:  82.67 %\n",
      "Accuracy of the Testing Set is:  72.0 %\n",
      "F1 Score of the Testing Set is:  68.89 %\n"
     ]
    }
   ],
   "source": [
    "precision_test = 62/(62+43)\n",
    "recall_test = 62/(62+13)\n",
    "accuracy_test = (62+82)/(200)\n",
    "f_score_test = 2 * ((precision_test * recall_test)/(precision_test + recall_test))\n",
    "\n",
    "print(\"Precision of the Testing Set is: \",round(precision_test*100,2),\"%\")\n",
    "print(\"Recall of the Testing Set is: \",round(recall_test*100,2),\"%\")\n",
    "print(\"Accuracy of the Testing Set is: \",round(accuracy_test*100,2),\"%\")\n",
    "print(\"F1 Score of the Testing Set is: \",round(f_score_test*100,2),\"%\")"
   ]
  },
  {
   "cell_type": "markdown",
   "metadata": {},
   "source": [
    "# Plotting ROC Curve"
   ]
  },
  {
   "cell_type": "code",
   "execution_count": 47,
   "metadata": {},
   "outputs": [],
   "source": [
    "import sklearn.metrics as metrics\n",
    "# calculate the fpr and tpr for all thresholds of the classification\n",
    "probs = model.predict_proba(x_val_tfidf)\n",
    "preds = probs[:]\n",
    "fpr, tpr, threshold = metrics.roc_curve(y_test, preds)\n",
    "roc_auc = metrics.auc(fpr, tpr)"
   ]
  },
  {
   "cell_type": "code",
   "execution_count": 48,
   "metadata": {},
   "outputs": [
    {
     "data": {
      "image/png": "[encoded data removed]",
      "text/plain": [
       "<Figure size 288x144 with 1 Axes>"
      ]
     },
     "metadata": {
      "needs_background": "light"
     },
     "output_type": "display_data"
    }
   ],
   "source": [
    "import matplotlib.pyplot as plt\n",
    "plt.title('Receiver Operating Characteristic')\n",
    "plt.plot(fpr, tpr, 'b', label = 'AUC = %0.2f' % roc_auc)\n",
    "plt.legend(loc = 'lower right')\n",
    "plt.plot([0, 1], [0, 1],'r--')\n",
    "plt.xlim([0, 1])\n",
    "plt.ylim([0, 1])\n",
    "plt.ylabel('True Positive Rate')\n",
    "plt.xlabel('False Positive Rate')\n",
    "plt.show()"
   ]
  }
 ],
 "metadata": {
  "kernelspec": {
   "display_name": "Python 3",
   "language": "python",
   "name": "python3"
  },
  "language_info": {
   "codemirror_mode": {
    "name": "ipython",
    "version": 3
   },
   "file_extension": ".py",
   "mimetype": "text/x-python",
   "name": "python",
   "nbconvert_exporter": "python",
   "pygments_lexer": "ipython3",
   "version": "3.7.1"
  }
 },
 "nbformat": 4,
 "nbformat_minor": 2
}
