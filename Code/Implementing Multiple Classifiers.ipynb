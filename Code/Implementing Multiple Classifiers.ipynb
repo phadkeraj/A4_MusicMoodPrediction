{
 "cells": [
  {
   "cell_type": "code",
   "execution_count": 1,
   "metadata": {},
   "outputs": [],
   "source": [
    "import pandas as pd\n",
    "import numpy as np\n",
    "from nltk.tokenize import word_tokenize\n",
    "from nltk import pos_tag\n",
    "from nltk.corpus import stopwords\n",
    "from nltk.stem import WordNetLemmatizer\n",
    "from sklearn.preprocessing import LabelEncoder\n",
    "from collections import defaultdict\n",
    "from nltk.corpus import wordnet as wn\n",
    "from sklearn.ensemble import RandomForestClassifier"
   ]
  },
  {
   "cell_type": "code",
   "execution_count": 2,
   "metadata": {},
   "outputs": [],
   "source": [
    "training_data = pd.read_csv(\"../Data/train_lyrics_1000.csv\",header=0,encoding='utf-8')\n",
    "testing_data = pd.read_csv(\"../Data/valid_lyrics_200.csv\",header=0,encoding='utf-8')"
   ]
  },
  {
   "cell_type": "code",
   "execution_count": 3,
   "metadata": {},
   "outputs": [],
   "source": [
    "# Step - a : Remove blank rows if any.\n",
    "training_data['lyrics'].dropna(inplace=True)\n",
    "testing_data['lyrics'].dropna(inplace=True)"
   ]
  },
  {
   "cell_type": "code",
   "execution_count": 4,
   "metadata": {},
   "outputs": [],
   "source": [
    "# Step - b : Change all the text to lower case. This is required as python interprets 'dog' and 'DOG' differently\n",
    "training_data['lyrics'] = [entry.lower() for entry in training_data['lyrics']]\n",
    "testing_data['lyrics'] = [entry.lower() for entry in testing_data['lyrics']]"
   ]
  },
  {
   "cell_type": "code",
   "execution_count": 5,
   "metadata": {},
   "outputs": [],
   "source": [
    "# Step - c : Tokenization : In this each entry in the corpus will be broken into set of words\n",
    "training_data['lyrics']= [word_tokenize(entry) for entry in training_data['lyrics']]\n",
    "testing_data['lyrics']= [word_tokenize(entry) for entry in testing_data['lyrics']]"
   ]
  },
  {
   "cell_type": "code",
   "execution_count": 6,
   "metadata": {},
   "outputs": [],
   "source": [
    "# Step - d : Remove Stop words, Non-Numeric and perfom Word Stemming/Lemmenting.\n",
    "# WordNetLemmatizer requires Pos tags to understand if the word is noun or verb or adjective etc. By default it is set to Noun\n",
    "tag_map = defaultdict(lambda : wn.NOUN)\n",
    "tag_map['J'] = wn.ADJ\n",
    "tag_map['V'] = wn.VERB\n",
    "tag_map['R'] = wn.ADV"
   ]
  },
  {
   "cell_type": "code",
   "execution_count": 7,
   "metadata": {},
   "outputs": [],
   "source": [
    "for index,entry in enumerate(training_data['lyrics']):\n",
    "    # Declaring Empty List to store the words that follow the rules for this step\n",
    "    Final_words = []\n",
    "    # Initializing WordNetLemmatizer()\n",
    "    word_Lemmatized = WordNetLemmatizer()\n",
    "    # pos_tag function below will provide the 'tag' i.e if the word is Noun(N) or Verb(V) or something else.\n",
    "    for word, tag in pos_tag(entry):\n",
    "        # Below condition is to check for Stop words and consider only alphabets\n",
    "        if word not in stopwords.words('english') and word.isalpha():\n",
    "            word_Final = word_Lemmatized.lemmatize(word,tag_map[tag[0]])\n",
    "            Final_words.append(word_Final)\n",
    "    # The final processed set of words for each iteration will be stored in 'text_final'\n",
    "    training_data.loc[index,'text_final'] = str(Final_words)"
   ]
  },
  {
   "cell_type": "code",
   "execution_count": 8,
   "metadata": {},
   "outputs": [],
   "source": [
    "for index,entry in enumerate(testing_data['lyrics']):\n",
    "    # Declaring Empty List to store the words that follow the rules for this step\n",
    "    Final_words = []\n",
    "    # Initializing WordNetLemmatizer()\n",
    "    word_Lemmatized = WordNetLemmatizer()\n",
    "    # pos_tag function below will provide the 'tag' i.e if the word is Noun(N) or Verb(V) or something else.\n",
    "    for word, tag in pos_tag(entry):\n",
    "        # Below condition is to check for Stop words and consider only alphabets\n",
    "        if word not in stopwords.words('english') and word.isalpha():\n",
    "            word_Final = word_Lemmatized.lemmatize(word,tag_map[tag[0]])\n",
    "            Final_words.append(word_Final)\n",
    "    # The final processed set of words for each iteration will be stored in 'text_final'\n",
    "    testing_data.loc[index,'text_final'] = str(Final_words)"
   ]
  },
  {
   "cell_type": "code",
   "execution_count": 9,
   "metadata": {},
   "outputs": [],
   "source": [
    "# Splitting the Dataset and Label Encoding the Target Variables\n",
    "\n",
    "train_x = training_data['text_final']\n",
    "valid_x = testing_data['text_final']\n",
    "train_y = training_data['mood']\n",
    "valid_y = testing_data['mood']"
   ]
  },
  {
   "cell_type": "code",
   "execution_count": 10,
   "metadata": {},
   "outputs": [
    {
     "data": {
      "text/plain": [
       "0      ['verse', 'one', 'alright', 'might', 'little',...\n",
       "1      ['adam', 'pirroni', 'every', 'girl', 'somethin...\n",
       "2      ['erase', 'get', 'world', 'sale', 'walk', 'awa...\n",
       "3      ['little', 'darling', 'long', 'think', 'ya', '...\n",
       "4      ['lead', 'vocal', 'greg', 'well', 'late', 'nig...\n",
       "5      ['imagine', 'whole', 'world', 'sharin', 'one',...\n",
       "6      ['first', 'let', 'say', 'look', 'tired', 'rest...\n",
       "7      ['james', 'james', 'hold', 'ladder', 'steady',...\n",
       "8      ['conclusion', 'illusion', 'mainstream', 'intr...\n",
       "9      ['ai', 'love', 'ai', 'love', 'ai', 'love', 'ai...\n",
       "10     ['brick', 'brick', 'stone', 'stone', 'dismantl...\n",
       "11     ['make', 'difference', 'kind', 'life', 'fate',...\n",
       "12     ['angie', 'angie', 'cloud', 'disappear', 'angi...\n",
       "13     ['day', 'day', 'night', 'night', 'blind', 'neo...\n",
       "14     ['ever', 'make', 'back', 'nashville', 'remembe...\n",
       "15     ['see', 'want', 'somehow', 'feeling', 'grows',...\n",
       "16     ['chorus', 'cheek', 'lady', 'mens', 'evening',...\n",
       "17     ['rip', 'hold', 'tell', 'gun', 'pull', 'trigge...\n",
       "18     ['drive', 'home', 'christmas', 'ca', 'wait', '...\n",
       "19     ['degradation', 'want', 'rhinoplasty', 'need',...\n",
       "20     ['little', 'white', 'wicker', 'chair', 'unsusp...\n",
       "21     ['look', 'see', 'outta', 'one', 'eye', 'smoke'...\n",
       "22     ['oh', 'yeah', 'jump', 'back', 'sound', 'come'...\n",
       "23     ['let', 'get', 'start', 'bass', 'keep', 'runni...\n",
       "24     ['building', 'make', 'u', 'grow', 'frighten', ...\n",
       "25     ['lay', 'open', 'like', 'road', 'carbed', 'apa...\n",
       "26     ['party', 'cry', 'want', 'cry', 'want', 'cry',...\n",
       "27     ['call', 'answer', 'mean', 'offer', 'love', 'r...\n",
       "28     ['cool', 'breeze', 'autumn', 'leaf', 'slow', '...\n",
       "29     ['say', 'dead', 'go', 'yes', 'know', 'wrong', ...\n",
       "                             ...                        \n",
       "970    ['halloween', 'think', 'together', 'old', 'tim...\n",
       "971    ['wynn', 'long', 'pack', 'cup', 'dish', 'load'...\n",
       "972    ['caught', 'gridlock', 'nose', 'tail', 'across...\n",
       "973    ['ca', 'understand', 'still', 'lot', 'say', 'f...\n",
       "974    ['baby', 'break', 'quarrel', 'fight', 'ca', 'w...\n",
       "975    ['way', 'cross', 'desert', 'sea', 'learn', 'sp...\n",
       "976    ['keep', 'yo', 'hand', 'air', 'cause', 'gon', ...\n",
       "977    ['love', 'song', 'love', 'song', 'love', 'song...\n",
       "978    ['know', 'place', 'dog', 'ai', 'right', 'know'...\n",
       "979    ['johnny', 'walker', 'sit', 'table', 'bar', 'm...\n",
       "980    ['life', 'like', 'merry', 'go', 'round', 'pain...\n",
       "981    ['hold', 'hold', 'day', 'full', 'okay', 'fine'...\n",
       "982    ['papa', 'know', 'go', 'upset', 'always', 'lit...\n",
       "983    ['important', 'know', 'name', 'know', 'communi...\n",
       "984    ['happy', 'get', 'want', 'im', 'lucky', 'im', ...\n",
       "985    ['one', 'two', 'one', 'two', 'three', 'four', ...\n",
       "986    ['click', 'use', 'music', 'get', 'high', 'use'...\n",
       "987    ['room', 'fill', 'water', 'roar', 'crowd', 'di...\n",
       "988    ['know', 'gal', 'name', 'mae', 'lou', 'shake',...\n",
       "989    ['diamond', 'forever', 'wo', 'leave', 'night',...\n",
       "990    ['dustland', 'fairytale', 'beginning', 'anothe...\n",
       "991    ['lovin', 'easy', 'beautiful', 'makin', 'love'...\n",
       "992    ['know', 'get', 'ta', 'get', 'away', 'round', ...\n",
       "993    ['sure', 'must', 'surprise', 'road', 'take', '...\n",
       "994    ['ten', 'time', 'divide', 'ten', 'year', 'ago'...\n",
       "995    ['love', 'shall', 'forever', 'never', 'end', '...\n",
       "996    ['time', 'rain', 'parade', 'watch', 'hope', 'e...\n",
       "997    ['speakin', 'devil', 'look', 'walk', 'know', '...\n",
       "998    ['bear', 'mother', 'womb', 'like', 'room', 'ma...\n",
       "999    ['want', 'tear', 'break', 'want', 'mine', 'giv...\n",
       "Name: text_final, Length: 1000, dtype: object"
      ]
     },
     "execution_count": 10,
     "metadata": {},
     "output_type": "execute_result"
    }
   ],
   "source": [
    "train_x"
   ]
  },
  {
   "cell_type": "code",
   "execution_count": 11,
   "metadata": {},
   "outputs": [],
   "source": [
    "# Label Encoding\n",
    "\n",
    "Encoder = LabelEncoder()\n",
    "train_y = Encoder.fit_transform(train_y)\n",
    "valid_y = Encoder.fit_transform(valid_y)"
   ]
  },
  {
   "cell_type": "markdown",
   "metadata": {},
   "source": [
    "# Feature Engineering"
   ]
  },
  {
   "cell_type": "markdown",
   "metadata": {},
   "source": [
    "## Count Vectors as Features"
   ]
  },
  {
   "cell_type": "code",
   "execution_count": 12,
   "metadata": {},
   "outputs": [],
   "source": [
    "all_texts = []\n",
    "\n",
    "#Appending Training Set Texts\n",
    "for items in train_x:\n",
    "    all_texts.append(items)\n",
    "    \n",
    "#Appending Validation Set Texts\n",
    "for items in valid_x:\n",
    "    all_texts.append(items)"
   ]
  },
  {
   "cell_type": "code",
   "execution_count": 13,
   "metadata": {},
   "outputs": [
    {
     "name": "stderr",
     "output_type": "stream",
     "text": [
      "Using TensorFlow backend.\n"
     ]
    }
   ],
   "source": [
    "from sklearn import model_selection, preprocessing, linear_model, naive_bayes, metrics, svm\n",
    "from sklearn.feature_extraction.text import TfidfVectorizer, CountVectorizer\n",
    "from sklearn import decomposition, ensemble\n",
    "\n",
    "import pandas, xgboost, numpy, textblob, string\n",
    "from keras.preprocessing import text, sequence\n",
    "from keras import layers, models, optimizers"
   ]
  },
  {
   "cell_type": "code",
   "execution_count": 14,
   "metadata": {},
   "outputs": [],
   "source": [
    "# create a count vectorizer object \n",
    "count_vect = CountVectorizer(analyzer='word')\n",
    "count_vect.fit(all_texts)\n",
    "\n",
    "# transform the training and validation data using count vectorizer object\n",
    "xtrain_count =  count_vect.transform(train_x)\n",
    "xvalid_count =  count_vect.transform(valid_x)"
   ]
  },
  {
   "cell_type": "markdown",
   "metadata": {},
   "source": [
    "## TF-IDF Vectors as Features"
   ]
  },
  {
   "cell_type": "code",
   "execution_count": 15,
   "metadata": {},
   "outputs": [],
   "source": [
    "# word level tf-idf\n",
    "tfidf_vect = TfidfVectorizer(analyzer='word',max_features=5000)\n",
    "tfidf_vect.fit(all_texts)\n",
    "xtrain_tfidf =  tfidf_vect.transform(train_x)\n",
    "xvalid_tfidf =  tfidf_vect.transform(valid_x)\n",
    "\n",
    "# ngram level tf-idf \n",
    "tfidf_vect_ngram = TfidfVectorizer(analyzer='word', ngram_range=(2,2), max_features=5000)\n",
    "tfidf_vect_ngram.fit(all_texts)\n",
    "xtrain_tfidf_ngram =  tfidf_vect_ngram.transform(train_x)\n",
    "xvalid_tfidf_ngram =  tfidf_vect_ngram.transform(valid_x)"
   ]
  },
  {
   "cell_type": "markdown",
   "metadata": {},
   "source": [
    "# Topic Models as Features"
   ]
  },
  {
   "cell_type": "code",
   "execution_count": 16,
   "metadata": {},
   "outputs": [],
   "source": [
    "# train a LDA Model\n",
    "\n",
    "lda_model = decomposition.LatentDirichletAllocation(n_components=20, learning_method='online', max_iter=20)\n",
    "X_topics = lda_model.fit_transform(xtrain_count)\n",
    "topic_word = lda_model.components_ \n",
    "vocab = count_vect.get_feature_names()\n",
    "\n",
    "# view the topic models\n",
    "n_top_words = 10\n",
    "topic_summaries = []\n",
    "for i, topic_dist in enumerate(topic_word):\n",
    "    topic_words = numpy.array(vocab)[numpy.argsort(topic_dist)][:-(n_top_words+1):-1]\n",
    "    topic_summaries.append(' '.join(topic_words))"
   ]
  },
  {
   "cell_type": "markdown",
   "metadata": {},
   "source": [
    "# Function to Deploy Models"
   ]
  },
  {
   "cell_type": "code",
   "execution_count": 17,
   "metadata": {},
   "outputs": [],
   "source": [
    "def train_model(classifier, feature_vector_train, label, feature_vector_valid, is_neural_net=False):\n",
    "    # fit the training dataset on the classifier\n",
    "    classifier.fit(feature_vector_train, label)\n",
    "    \n",
    "    # predict the labels on validation dataset\n",
    "    predictions = classifier.predict(feature_vector_valid)\n",
    "    \n",
    "    if is_neural_net:\n",
    "        predictions = predictions.argmax(axis=-1)\n",
    "    \n",
    "    return metrics.accuracy_score(predictions, valid_y)"
   ]
  },
  {
   "cell_type": "markdown",
   "metadata": {},
   "source": [
    "# Naive Bayes Classifier"
   ]
  },
  {
   "cell_type": "code",
   "execution_count": 18,
   "metadata": {},
   "outputs": [
    {
     "name": "stdout",
     "output_type": "stream",
     "text": [
      "NB, Count Vectors:  0.715\n",
      "NB, WordLevel TF-IDF:  0.58\n",
      "NB, N-Gram Vectors:  0.55\n"
     ]
    }
   ],
   "source": [
    "# Naive Bayes on Count Vectors\n",
    "accuracy_count_nb = train_model(naive_bayes.MultinomialNB(), xtrain_count, train_y, xvalid_count)\n",
    "print (\"NB, Count Vectors: \", accuracy_count_nb)\n",
    "\n",
    "# Naive Bayes on Word Level TF IDF Vectors\n",
    "accuracy_word_nb = train_model(naive_bayes.MultinomialNB(), xtrain_tfidf, train_y, xvalid_tfidf)\n",
    "print (\"NB, WordLevel TF-IDF: \", accuracy_word_nb)\n",
    "\n",
    "# Naive Bayes on Ngram Level TF IDF Vectors\n",
    "accuracy_ngram_nb = train_model(naive_bayes.MultinomialNB(), xtrain_tfidf_ngram, train_y, xvalid_tfidf_ngram)\n",
    "print (\"NB, N-Gram Vectors: \", accuracy_ngram_nb)"
   ]
  },
  {
   "cell_type": "markdown",
   "metadata": {},
   "source": [
    "# Random Forest Classifier"
   ]
  },
  {
   "cell_type": "code",
   "execution_count": 19,
   "metadata": {},
   "outputs": [
    {
     "name": "stdout",
     "output_type": "stream",
     "text": [
      "RF, Count Vectors:  0.635\n",
      "RF, WordLevel TF-IDF Vectors:  0.66\n",
      "RF, N-Gram Vectors:  0.58\n"
     ]
    }
   ],
   "source": [
    "#Random Forest on Count Vectors\n",
    "accuracy_count_rf = train_model(RandomForestClassifier(n_estimators=100),xtrain_count,train_y,xvalid_count)\n",
    "print(\"RF, Count Vectors: \",accuracy_count_rf)\n",
    "\n",
    "#Random Forest on Word Level TF IDF Vectors\n",
    "accuracy_word_rf = train_model(RandomForestClassifier(n_estimators=100),xtrain_tfidf,train_y,xvalid_tfidf)\n",
    "print(\"RF, WordLevel TF-IDF Vectors: \",accuracy_word_rf)\n",
    "\n",
    "#Random Forest Ngram Level TF IDF Vectors\n",
    "accuracy_ngram_rf = train_model(RandomForestClassifier(n_estimators=100),xtrain_tfidf_ngram,train_y,xvalid_tfidf_ngram)\n",
    "print(\"RF, N-Gram Vectors: \",accuracy_ngram_rf)"
   ]
  },
  {
   "cell_type": "markdown",
   "metadata": {},
   "source": [
    "# Linear Classifier: Logistic Regression"
   ]
  },
  {
   "cell_type": "code",
   "execution_count": 20,
   "metadata": {},
   "outputs": [
    {
     "name": "stdout",
     "output_type": "stream",
     "text": [
      "LR, Count Vectors:  0.66\n",
      "LR, WordLevel TF-IDF:  0.7\n",
      "LR, N-Gram Vectors:  0.515\n"
     ]
    },
    {
     "name": "stderr",
     "output_type": "stream",
     "text": [
      "C:\\ProgramData\\Anaconda3\\lib\\site-packages\\sklearn\\linear_model\\logistic.py:433: FutureWarning: Default solver will be changed to 'lbfgs' in 0.22. Specify a solver to silence this warning.\n",
      "  FutureWarning)\n"
     ]
    }
   ],
   "source": [
    "# Linear Classifier on Count Vectors\n",
    "accuracy_count_lc = train_model(linear_model.LogisticRegression(), xtrain_count, train_y, xvalid_count)\n",
    "print (\"LR, Count Vectors: \", accuracy_count_lc)\n",
    "\n",
    "# Linear Classifier on Word Level TF IDF Vectors\n",
    "accuracy_word_lc = train_model(linear_model.LogisticRegression(), xtrain_tfidf, train_y, xvalid_tfidf)\n",
    "print (\"LR, WordLevel TF-IDF: \", accuracy_word_lc)\n",
    "\n",
    "# Linear Classifier on Ngram Level TF IDF Vectors\n",
    "accuracy_ngram_lc = train_model(linear_model.LogisticRegression(), xtrain_tfidf_ngram, train_y, xvalid_tfidf_ngram)\n",
    "print (\"LR, N-Gram Vectors: \", accuracy_ngram_lc) "
   ]
  },
  {
   "cell_type": "markdown",
   "metadata": {},
   "source": [
    "# SVM"
   ]
  },
  {
   "cell_type": "code",
   "execution_count": 21,
   "metadata": {},
   "outputs": [
    {
     "name": "stdout",
     "output_type": "stream",
     "text": [
      "SVM,Count Vectors:  0.655\n",
      "SVM, Word Level TF-IDF Vectors:  0.685\n",
      "SVM, N-Gram Vectors:  0.54\n"
     ]
    }
   ],
   "source": [
    "# SVM on Count Vectors\n",
    "accuracy_count_svm = train_model(svm.SVC(C=1.0, kernel='linear', degree=3, gamma='auto'), xtrain_count, train_y, xvalid_count)\n",
    "print (\"SVM,Count Vectors: \", accuracy_count_svm)\n",
    "\n",
    "# SVM on Word Level TF-IDF Vectors\n",
    "accuracy_word_svm = train_model(svm.SVC(C=1.0, kernel='linear', degree=3, gamma='auto'), xtrain_tfidf, train_y, xvalid_tfidf)\n",
    "print (\"SVM, Word Level TF-IDF Vectors: \", accuracy_word_svm)\n",
    "\n",
    "# SVM on Ngram Level TF IDF Vectors\n",
    "accuracy_ngram_svm = train_model(svm.SVC(C=1.0, kernel='linear', degree=3, gamma='auto'), xtrain_tfidf_ngram, train_y, xvalid_tfidf_ngram)\n",
    "print (\"SVM, N-Gram Vectors: \", accuracy_ngram_svm)"
   ]
  },
  {
   "cell_type": "markdown",
   "metadata": {},
   "source": [
    "# Bagging Model"
   ]
  },
  {
   "cell_type": "code",
   "execution_count": 22,
   "metadata": {},
   "outputs": [
    {
     "name": "stderr",
     "output_type": "stream",
     "text": [
      "C:\\ProgramData\\Anaconda3\\lib\\site-packages\\sklearn\\ensemble\\forest.py:246: FutureWarning: The default value of n_estimators will change from 10 in version 0.20 to 100 in 0.22.\n",
      "  \"10 in version 0.20 to 100 in 0.22.\", FutureWarning)\n",
      "C:\\ProgramData\\Anaconda3\\lib\\site-packages\\sklearn\\ensemble\\forest.py:246: FutureWarning: The default value of n_estimators will change from 10 in version 0.20 to 100 in 0.22.\n",
      "  \"10 in version 0.20 to 100 in 0.22.\", FutureWarning)\n",
      "C:\\ProgramData\\Anaconda3\\lib\\site-packages\\sklearn\\ensemble\\forest.py:246: FutureWarning: The default value of n_estimators will change from 10 in version 0.20 to 100 in 0.22.\n",
      "  \"10 in version 0.20 to 100 in 0.22.\", FutureWarning)\n"
     ]
    },
    {
     "name": "stdout",
     "output_type": "stream",
     "text": [
      "RF, Count Vectors:  0.615\n",
      "RF, WordLevel TF-IDF:  0.605\n",
      "RF, Ngram Vectors:  0.57\n"
     ]
    }
   ],
   "source": [
    "# RF on Count Vectors\n",
    "accuracy_count_bg = train_model(ensemble.RandomForestClassifier(), xtrain_count, train_y, xvalid_count)\n",
    "print (\"RF, Count Vectors: \", accuracy_count_bg)\n",
    "\n",
    "# RF on Word Level TF IDF Vectors\n",
    "accuracy_word_bg = train_model(ensemble.RandomForestClassifier(), xtrain_tfidf, train_y, xvalid_tfidf)\n",
    "print (\"RF, WordLevel TF-IDF: \", accuracy_word_bg)\n",
    "\n",
    "# RF on Ngram Vectors\n",
    "accuracy_ngram_bg = train_model(ensemble.RandomForestClassifier(), xtrain_tfidf_ngram, train_y, xvalid_tfidf_ngram)\n",
    "print (\"RF, Ngram Vectors: \", accuracy_ngram_bg)"
   ]
  },
  {
   "cell_type": "markdown",
   "metadata": {},
   "source": [
    "# Boosting Model"
   ]
  },
  {
   "cell_type": "code",
   "execution_count": 23,
   "metadata": {},
   "outputs": [
    {
     "name": "stdout",
     "output_type": "stream",
     "text": [
      "Xgb, Count Vectors:  0.635\n",
      "Xgb, WordLevel TF-IDF:  0.62\n",
      "Xgb, Ngram Level Vectors:  0.585\n"
     ]
    }
   ],
   "source": [
    "# Extereme Gradient Boosting on Count Vectors\n",
    "accuracy_count_bo = train_model(xgboost.XGBClassifier(), xtrain_count.tocsc(), train_y, xvalid_count.tocsc())\n",
    "print (\"Xgb, Count Vectors: \", accuracy_count_bo)\n",
    "\n",
    "# Extereme Gradient Boosting on Word Level TF IDF Vectors\n",
    "accuracy_word_bo = train_model(xgboost.XGBClassifier(), xtrain_tfidf.tocsc(), train_y, xvalid_tfidf.tocsc())\n",
    "print (\"Xgb, WordLevel TF-IDF: \", accuracy_word_bo)\n",
    "\n",
    "# Extereme Gradient Boosting on NGRAM Level TF IDF Vectors\n",
    "accuracy_ngram_bo = train_model(xgboost.XGBClassifier(), xtrain_tfidf_ngram.tocsc(), train_y, xvalid_tfidf_ngram.tocsc())\n",
    "print (\"Xgb, Ngram Level Vectors: \", accuracy_ngram_bo)"
   ]
  },
  {
   "cell_type": "markdown",
   "metadata": {},
   "source": [
    "# Shallow Neural Networks"
   ]
  },
  {
   "cell_type": "code",
   "execution_count": 24,
   "metadata": {},
   "outputs": [
    {
     "name": "stdout",
     "output_type": "stream",
     "text": [
      "WARNING:tensorflow:From C:\\ProgramData\\Anaconda3\\lib\\site-packages\\tensorflow\\python\\framework\\op_def_library.py:263: colocate_with (from tensorflow.python.framework.ops) is deprecated and will be removed in a future version.\n",
      "Instructions for updating:\n",
      "Colocations handled automatically by placer.\n",
      "WARNING:tensorflow:From C:\\ProgramData\\Anaconda3\\lib\\site-packages\\tensorflow\\python\\ops\\math_ops.py:3066: to_int32 (from tensorflow.python.ops.math_ops) is deprecated and will be removed in a future version.\n",
      "Instructions for updating:\n",
      "Use tf.cast instead.\n",
      "Epoch 1/1\n",
      "1000/1000 [==============================] - 1s 895us/step - loss: 0.6598\n",
      "NN, Count Vectors 0.525\n",
      "Epoch 1/1\n",
      "1000/1000 [==============================] - 1s 796us/step - loss: 0.6850\n",
      "NN, Word Level TFIDf Vectors 0.525\n",
      "Epoch 1/1\n",
      "1000/1000 [==============================] - 1s 627us/step - loss: 0.6906\n",
      "NN, Ngram Level TF IDF Vectors 0.525\n"
     ]
    }
   ],
   "source": [
    "def create_model_architecture(input_size):\n",
    "    # create input layer \n",
    "    input_layer = layers.Input((input_size, ), sparse=True)\n",
    "    \n",
    "    # create hidden layer\n",
    "    hidden_layer = layers.Dense(100, activation=\"relu\")(input_layer)\n",
    "    \n",
    "    # create output layer\n",
    "    output_layer = layers.Dense(1, activation=\"sigmoid\")(hidden_layer)\n",
    "\n",
    "    classifier = models.Model(inputs = input_layer, outputs = output_layer)\n",
    "    classifier.compile(optimizer=optimizers.Adam(), loss='binary_crossentropy')\n",
    "    return classifier \n",
    "\n",
    "# Implementing on Count Vectors\n",
    "classifier = create_model_architecture(xtrain_count.shape[1])\n",
    "accuracy_count_snn = train_model(classifier, xtrain_count, train_y, xvalid_count, is_neural_net=True)\n",
    "print (\"NN, Count Vectors\",  accuracy_count_snn)\n",
    "\n",
    "# Implementing on Word Level TF-IDF\n",
    "classifier = create_model_architecture(xtrain_tfidf.shape[1])\n",
    "accuracy_word_snn = train_model(classifier, xtrain_tfidf, train_y, xvalid_tfidf, is_neural_net=True)\n",
    "print (\"NN, Word Level TFIDf Vectors\",  accuracy_word_snn)\n",
    "\n",
    "# Implementing on Ngram Level TF-IDF\n",
    "classifier = create_model_architecture(xtrain_tfidf_ngram.shape[1])\n",
    "accuracy_ngram_snn = train_model(classifier, xtrain_tfidf_ngram, train_y, xvalid_tfidf_ngram, is_neural_net=True)\n",
    "print (\"NN, Ngram Level TF IDF Vectors\",  accuracy_ngram_snn)"
   ]
  },
  {
   "cell_type": "markdown",
   "metadata": {},
   "source": [
    "# Summary"
   ]
  },
  {
   "cell_type": "markdown",
   "metadata": {},
   "source": [
    "### Using Count Vectors"
   ]
  },
  {
   "cell_type": "code",
   "execution_count": 25,
   "metadata": {},
   "outputs": [
    {
     "name": "stdout",
     "output_type": "stream",
     "text": [
      "Naive Bayes Classifier\n",
      "NB, Count Vectors:  71.5 %\n",
      "\n",
      "Random Forest Classifier\n",
      "RF, Count Vectors:  63.5 %\n",
      "\n",
      "Linear Classifier\n",
      "LR, Count Vectors:  66.0 %\n",
      "\n",
      "SVM Classifier\n",
      "SVM,Count Vectors:  65.5 %\n",
      "\n",
      "Bagging Classifier\n",
      "RF, Count Vectors:  61.5 %\n",
      "\n",
      "Boosting Classifier\n",
      "Xgb, Count Vectors:  63.5 %\n",
      "\n",
      "Shallow Neural Networks Classifier\n",
      "NN, Count Vectors 52.5 %\n"
     ]
    }
   ],
   "source": [
    "print('Naive Bayes Classifier')\n",
    "print (\"NB, Count Vectors: \", round(accuracy_count_nb*100,2),\"%\")\n",
    "print(\"\")\n",
    "\n",
    "print('Random Forest Classifier')\n",
    "print(\"RF, Count Vectors: \",round(accuracy_count_rf*100,2),\"%\")\n",
    "print(\"\")\n",
    "\n",
    "print('Linear Classifier')\n",
    "print (\"LR, Count Vectors: \", round(accuracy_count_lc*100,2),\"%\")\n",
    "print(\"\")\n",
    "\n",
    "print('SVM Classifier')\n",
    "print (\"SVM,Count Vectors: \", round(accuracy_count_svm*100,2),\"%\")\n",
    "print(\"\")\n",
    "\n",
    "print('Bagging Classifier')\n",
    "print (\"RF, Count Vectors: \", round(accuracy_count_bg*100,2),\"%\")\n",
    "print(\"\")\n",
    "\n",
    "print('Boosting Classifier')\n",
    "print (\"Xgb, Count Vectors: \", round(accuracy_count_bo*100,2),\"%\")\n",
    "print(\"\")\n",
    "\n",
    "print('Shallow Neural Networks Classifier')\n",
    "print (\"NN, Count Vectors\",  round(accuracy_count_snn*100,2),\"%\")"
   ]
  },
  {
   "cell_type": "markdown",
   "metadata": {},
   "source": [
    "### Using Word Level TF-IDF Vectors"
   ]
  },
  {
   "cell_type": "code",
   "execution_count": 26,
   "metadata": {},
   "outputs": [
    {
     "name": "stdout",
     "output_type": "stream",
     "text": [
      "Naive Bayes Classifier\n",
      "NB, WordLevel TF-IDF:  58.0 %\n",
      "\n",
      "Random Forest Classifier\n",
      "RF, WordLevel TF-IDF Vectors:  66.0 %\n",
      "\n",
      "Linear Classifier\n",
      "LR, WordLevel TF-IDF:  70.0 %\n",
      "\n",
      "SVM Classifier\n",
      "SVM, Word Level TF-IDF Vectors:  68.5 %\n",
      "\n",
      "Bagging Classifier\n",
      "RF, WordLevel TF-IDF:  60.5 %\n",
      "\n",
      "Boosting Classifier\n",
      "Xgb, WordLevel TF-IDF:  62.0 %\n",
      "\n",
      "Shallow Neural Networks Classifier\n",
      "NN, Word Level TFIDf Vectors 52.5 %\n"
     ]
    }
   ],
   "source": [
    "print('Naive Bayes Classifier')\n",
    "print (\"NB, WordLevel TF-IDF: \", round(accuracy_word_nb*100,2),\"%\")\n",
    "print(\"\")\n",
    "\n",
    "print('Random Forest Classifier')\n",
    "print(\"RF, WordLevel TF-IDF Vectors: \",round(accuracy_word_rf*100,2),\"%\")\n",
    "print(\"\")\n",
    "\n",
    "print('Linear Classifier')\n",
    "print (\"LR, WordLevel TF-IDF: \", round(accuracy_word_lc*100,2),\"%\")\n",
    "print(\"\")\n",
    "\n",
    "print('SVM Classifier')\n",
    "print (\"SVM, Word Level TF-IDF Vectors: \", round(accuracy_word_svm*100,2),\"%\")\n",
    "print(\"\")\n",
    "\n",
    "print('Bagging Classifier')\n",
    "print (\"RF, WordLevel TF-IDF: \", round(accuracy_word_bg*100,2),\"%\")\n",
    "print(\"\")\n",
    "\n",
    "print('Boosting Classifier')\n",
    "print (\"Xgb, WordLevel TF-IDF: \", round(accuracy_word_bo*100,2),\"%\")\n",
    "print(\"\")\n",
    "\n",
    "print('Shallow Neural Networks Classifier')\n",
    "print (\"NN, Word Level TFIDf Vectors\",  round(accuracy_word_snn*100,2),\"%\")"
   ]
  },
  {
   "cell_type": "markdown",
   "metadata": {},
   "source": [
    "### Using Ngram TF-IDF Vectors"
   ]
  },
  {
   "cell_type": "code",
   "execution_count": 27,
   "metadata": {},
   "outputs": [
    {
     "name": "stdout",
     "output_type": "stream",
     "text": [
      "Naive Bayes Classifier\n",
      "NB, Ngram Vectors:  55.0 %\n",
      "\n",
      "Random Forest Classifier\n",
      "RF, Ngram Vectors:  58.0 %\n",
      "\n",
      "Linear Classifier\n",
      "LR, Ngram Vectors:  51.5 %\n",
      "\n",
      "SVM Classifier\n",
      "SVM, Ngram Vectors:  54.0 %\n",
      "\n",
      "Bagging Classifier\n",
      "RF, Ngram Vectors:  57.0 %\n",
      "\n",
      "Boosting Classifier\n",
      "Xgb, Ngram Vectors:  58.5 %\n",
      "\n",
      "Shallow Neural Networks Classifier\n",
      "NN, Ngram Vectors 52.5 %\n"
     ]
    }
   ],
   "source": [
    "print('Naive Bayes Classifier')\n",
    "print (\"NB, Ngram Vectors: \", round(accuracy_ngram_nb*100,2),\"%\")\n",
    "print(\"\")\n",
    "\n",
    "print('Random Forest Classifier')\n",
    "print(\"RF, Ngram Vectors: \",round(accuracy_ngram_rf*100,2),\"%\")\n",
    "print(\"\")\n",
    "\n",
    "print('Linear Classifier')\n",
    "print (\"LR, Ngram Vectors: \", round(accuracy_ngram_lc*100,2),\"%\")\n",
    "print(\"\")\n",
    "\n",
    "print('SVM Classifier')\n",
    "print (\"SVM, Ngram Vectors: \", round(accuracy_ngram_svm*100,2),\"%\")\n",
    "print(\"\")\n",
    "\n",
    "print('Bagging Classifier')\n",
    "print (\"RF, Ngram Vectors: \", round(accuracy_ngram_bg*100,2),\"%\")\n",
    "print(\"\")\n",
    "\n",
    "print('Boosting Classifier')\n",
    "print (\"Xgb, Ngram Vectors: \", round(accuracy_ngram_bo*100,2),\"%\")\n",
    "print(\"\")\n",
    "\n",
    "print('Shallow Neural Networks Classifier')\n",
    "print (\"NN, Ngram Vectors\",  round(accuracy_ngram_snn*100,2),\"%\")"
   ]
  },
  {
   "cell_type": "raw",
   "metadata": {},
   "source": [
    "Since we got the best model using Logistic Regression on a word level TF-IDF, we would try to tune it's Hyperparameters and Generate the best performance evaluating model. We would also generate a Confusion Matrix with F-1 Score to determine the model's performance."
   ]
  },
  {
   "cell_type": "code",
   "execution_count": 28,
   "metadata": {},
   "outputs": [],
   "source": [
    "# Plotting the confusion Matrix Using Logistic Regression on Word Level TF-IDF\n",
    "\n",
    "import matplotlib as mpl\n",
    "import numpy as np\n",
    "\n",
    "def plot_cm(X, y, clf, title):\n",
    "\n",
    "    cm = metrics.confusion_matrix(y, clf.predict(X))\n",
    "\n",
    "    np.set_printoptions(suppress=True)\n",
    "    mpl.rc(\"figure\", figsize=(4, 2))\n",
    "\n",
    "    hm = sns.heatmap(cm, \n",
    "            cbar=False,\n",
    "            annot=True, \n",
    "            square=True,\n",
    "            fmt='d',\n",
    "            yticklabels=['happy','sad'],\n",
    "            xticklabels=['happy','sad'],\n",
    "            cmap='Blues'\n",
    "            )\n",
    "    plt.title(title)\n",
    "    plt.ylabel('actual class')\n",
    "    plt.xlabel('predicted class')\n",
    "    plt.tight_layout()\n",
    "    plt.show()"
   ]
  },
  {
   "cell_type": "markdown",
   "metadata": {},
   "source": [
    "# Plotting Confusion Matrix"
   ]
  },
  {
   "cell_type": "code",
   "execution_count": 29,
   "metadata": {},
   "outputs": [
    {
     "name": "stderr",
     "output_type": "stream",
     "text": [
      "C:\\ProgramData\\Anaconda3\\lib\\site-packages\\sklearn\\linear_model\\logistic.py:433: FutureWarning: Default solver will be changed to 'lbfgs' in 0.22. Specify a solver to silence this warning.\n",
      "  FutureWarning)\n"
     ]
    },
    {
     "data": {
      "text/plain": [
       "<Figure size 400x200 with 1 Axes>"
      ]
     },
     "metadata": {},
     "output_type": "display_data"
    }
   ],
   "source": [
    "import seaborn as sns\n",
    "import matplotlib.pyplot as plt\n",
    "\n",
    "claf = linear_model.LogisticRegression()\n",
    "claf.fit(xtrain_tfidf, train_y)\n",
    "plot_cm(xtrain_tfidf, train_y, claf, 'Training Word Level - TfidfVectorizer on LR')"
   ]
  },
  {
   "cell_type": "code",
   "execution_count": 30,
   "metadata": {},
   "outputs": [
    {
     "data": {
      "image/png": "[encoded data removed]",
      "text/plain": [
       "<Figure size 288x144 with 1 Axes>"
      ]
     },
     "metadata": {
      "needs_background": "light"
     },
     "output_type": "display_data"
    }
   ],
   "source": [
    "plot_cm(xvalid_tfidf,valid_y, claf, 'Testing Word Level - TfidfVectorizer on LR')"
   ]
  },
  {
   "cell_type": "markdown",
   "metadata": {},
   "source": [
    "# Calculating F-1 Measure"
   ]
  },
  {
   "cell_type": "code",
   "execution_count": 31,
   "metadata": {},
   "outputs": [],
   "source": [
    "#precision = (TP)/(TP+FP) \n",
    "#recall = (TP)/(P)\n",
    "#accuracy = (TP+TN)/(P+N)\n",
    "#f-measure = 2 * (precision x recall)/(precision + recall)"
   ]
  },
  {
   "cell_type": "markdown",
   "metadata": {},
   "source": [
    "### Training Level Metrics"
   ]
  },
  {
   "cell_type": "code",
   "execution_count": 32,
   "metadata": {},
   "outputs": [],
   "source": [
    "precision_train = 363/(363+83)\n",
    "recall_train = 363/383\n",
    "accuracy_train = (363+534)/(1000)\n",
    "f_score_train = 2 * ((precision_train * recall_train)/(precision_train+recall_train))"
   ]
  },
  {
   "cell_type": "code",
   "execution_count": 33,
   "metadata": {},
   "outputs": [
    {
     "name": "stdout",
     "output_type": "stream",
     "text": [
      "Precision of the Training Set is:  81.39 %\n",
      "Recall of the Training Set is:  94.78 %\n",
      "Accuracy of the Training Set is:  89.7 %\n",
      "F1 Score of the Training Set is:  87.58 %\n"
     ]
    }
   ],
   "source": [
    "print(\"Precision of the Training Set is: \",round(precision_train*100,2),\"%\")\n",
    "print(\"Recall of the Training Set is: \",round(recall_train*100,2),\"%\")\n",
    "print(\"Accuracy of the Training Set is: \",round(accuracy_train*100,2),\"%\")\n",
    "print(\"F1 Score of the Training Set is: \",round(f_score_train*100,2),\"%\")"
   ]
  },
  {
   "cell_type": "markdown",
   "metadata": {},
   "source": [
    "### Testing Level Metrics"
   ]
  },
  {
   "cell_type": "code",
   "execution_count": 34,
   "metadata": {},
   "outputs": [
    {
     "name": "stdout",
     "output_type": "stream",
     "text": [
      "Precision of the Testing Set is:  52.38 %\n",
      "Recall of the Testing Set is:  84.62 %\n",
      "Accuracy of the Testing Set is:  70.0 %\n",
      "F1 Score of the Testing Set is:  64.71 %\n"
     ]
    }
   ],
   "source": [
    "precision_test = 55/(55+50)\n",
    "recall_test = 55/(55+10)\n",
    "accuracy_test = (55+85)/(200)\n",
    "f_score_test = 2 * ((precision_test * recall_test)/(precision_test + recall_test))\n",
    "\n",
    "print(\"Precision of the Testing Set is: \",round(precision_test*100,2),\"%\")\n",
    "print(\"Recall of the Testing Set is: \",round(recall_test*100,2),\"%\")\n",
    "print(\"Accuracy of the Testing Set is: \",round(accuracy_test*100,2),\"%\")\n",
    "print(\"F1 Score of the Testing Set is: \",round(f_score_test*100,2),\"%\")"
   ]
  },
  {
   "cell_type": "code",
   "execution_count": 38,
   "metadata": {},
   "outputs": [
    {
     "name": "stdout",
     "output_type": "stream",
     "text": [
      "  (0, 79)\t0.1360920489008954\n",
      "  (0, 142)\t0.06380114358012434\n",
      "  (0, 219)\t0.07858161221939174\n",
      "  (0, 366)\t0.042902656627140406\n",
      "  (0, 693)\t0.07836210060985256\n",
      "  (0, 875)\t0.14118811487871943\n",
      "  (0, 1050)\t0.037114915701009776\n",
      "  (0, 1340)\t0.05505797109837402\n",
      "  (0, 1439)\t0.06605004348063832\n",
      "  (0, 1581)\t0.06605004348063832\n",
      "  (0, 1634)\t0.12918486797780904\n",
      "  (0, 1846)\t0.13550732543096755\n",
      "  (0, 1920)\t0.16794460094391794\n",
      "  (0, 1963)\t0.04243885592969903\n",
      "  (0, 2421)\t0.032170061420326634\n",
      "  (0, 2682)\t0.3715810777666985\n",
      "  (0, 2919)\t0.0704276292313648\n",
      "  (0, 2989)\t0.7461550311171656\n",
      "  (0, 3635)\t0.04274591396915979\n",
      "  (0, 3813)\t0.06509151516026868\n",
      "  (0, 4128)\t0.17880595517128628\n",
      "  (0, 4337)\t0.12760228716024868\n",
      "  (0, 4338)\t0.14527464011840313\n",
      "  (0, 4402)\t0.025482273698442137\n",
      "  (0, 4561)\t0.17676770979134648\n",
      "  :\t:\n",
      "  (199, 1779)\t0.08496435139139356\n",
      "  (199, 1928)\t0.07968542959019877\n",
      "  (199, 2224)\t0.07384034503866985\n",
      "  (199, 2274)\t0.02462487238392175\n",
      "  (199, 2361)\t0.03300068733256394\n",
      "  (199, 2734)\t0.06427281619099486\n",
      "  (199, 2754)\t0.06364122653405267\n",
      "  (199, 2870)\t0.033713547062861185\n",
      "  (199, 2978)\t0.03075830396385416\n",
      "  (199, 3150)\t0.08158239698967448\n",
      "  (199, 3320)\t0.07577778231130554\n",
      "  (199, 3432)\t0.060571777193335376\n",
      "  (199, 3535)\t0.0564023231450706\n",
      "  (199, 3755)\t0.02896141754541692\n",
      "  (199, 3907)\t0.07058012589780388\n",
      "  (199, 4007)\t0.0551155906989561\n",
      "  (199, 4141)\t0.0764828377373659\n",
      "  (199, 4224)\t0.06874078578636125\n",
      "  (199, 4249)\t0.057189822791616295\n",
      "  (199, 4366)\t0.08628309220947508\n",
      "  (199, 4402)\t0.034461598144687675\n",
      "  (199, 4438)\t0.03633152546831447\n",
      "  (199, 4487)\t0.059593634045768874\n",
      "  (199, 4663)\t0.06395373159505444\n",
      "  (199, 4982)\t0.0551155906989561\n"
     ]
    }
   ],
   "source": [
    "print(xvalid_tfidf)"
   ]
  },
  {
   "cell_type": "markdown",
   "metadata": {},
   "source": [
    "### Plotting ROC Curves"
   ]
  },
  {
   "cell_type": "code",
   "execution_count": 42,
   "metadata": {},
   "outputs": [],
   "source": [
    "import sklearn.metrics as metrics\n",
    "# calculate the fpr and tpr for all thresholds of the classification\n",
    "probs = claf.predict_proba(xvalid_tfidf)\n",
    "preds = probs[:,1]\n",
    "fpr, tpr, threshold = metrics.roc_curve(valid_y, preds)\n",
    "roc_auc = metrics.auc(fpr, tpr)"
   ]
  },
  {
   "cell_type": "code",
   "execution_count": 43,
   "metadata": {},
   "outputs": [
    {
     "data": {
      "image/png": "[encoded data removed]",
      "text/plain": [
       "<Figure size 288x144 with 1 Axes>"
      ]
     },
     "metadata": {
      "needs_background": "light"
     },
     "output_type": "display_data"
    }
   ],
   "source": [
    "import matplotlib.pyplot as plt\n",
    "plt.title('Receiver Operating Characteristic')\n",
    "plt.plot(fpr, tpr, 'b', label = 'AUC = %0.2f' % roc_auc)\n",
    "plt.legend(loc = 'lower right')\n",
    "plt.plot([0, 1], [0, 1],'r--')\n",
    "plt.xlim([0, 1])\n",
    "plt.ylim([0, 1])\n",
    "plt.ylabel('True Positive Rate')\n",
    "plt.xlabel('False Positive Rate')\n",
    "plt.show()"
   ]
  }
 ],
 "metadata": {
  "kernelspec": {
   "display_name": "Python 3",
   "language": "python",
   "name": "python3"
  },
  "language_info": {
   "codemirror_mode": {
    "name": "ipython",
    "version": 3
   },
   "file_extension": ".py",
   "mimetype": "text/x-python",
   "name": "python",
   "nbconvert_exporter": "python",
   "pygments_lexer": "ipython3",
   "version": "3.7.1"
  }
 },
 "nbformat": 4,
 "nbformat_minor": 2
}
